{
 "cells": [
  {
   "cell_type": "code",
   "execution_count": 1,
   "id": "d68d2351",
   "metadata": {},
   "outputs": [],
   "source": [
    "import scanpy as sc\n",
    "import pandas as pd\n",
    "import numpy as np\n",
    "import anndata\n",
    "import matplotlib.pyplot as plt\n",
    "import numpy as np\n",
    "from scipy.sparse import csr_matrix"
   ]
  },
  {
   "cell_type": "markdown",
   "id": "9c2705f6",
   "metadata": {},
   "source": [
    "# Read adata"
   ]
  },
  {
   "cell_type": "code",
   "execution_count": 3,
   "id": "5580cbc0",
   "metadata": {},
   "outputs": [],
   "source": [
    "adata = sc.read_h5ad('/data/aneuploidy/cat_crop/fully_processed.h5ad')"
   ]
  },
  {
   "cell_type": "code",
   "execution_count": 5,
   "id": "5ed771ad",
   "metadata": {},
   "outputs": [
    {
     "data": {
      "text/plain": [
       "AnnData object with n_obs × n_vars = 204374 × 37001\n",
       "    obs: 'batch', 'aggr_barcode', 'num_features', 'feature_call', 'num_umis', 'maxUmi1', 'maxUmi2', 'cell_barcode', 'guidePvalue', 'pvalueAssign', 'guides', 'multi_output', 'n_genes_by_counts', 'total_counts', 'total_counts_mt', 'pct_counts_mt'\n",
       "    var: 'gene_ids', 'feature_types', 'genome', 'mt', 'n_cells_by_counts', 'mean_counts', 'pct_dropout_by_counts', 'total_counts'"
      ]
     },
     "execution_count": 5,
     "metadata": {},
     "output_type": "execute_result"
    }
   ],
   "source": [
    "adata"
   ]
  },
  {
   "cell_type": "code",
   "execution_count": 8,
   "id": "555c79e1-6dc1-4ccc-81d1-b65b50dc7c27",
   "metadata": {},
   "outputs": [
    {
     "data": {
      "text/plain": [
       "Multiple Guides    144526\n",
       "ADA2-1               2029\n",
       "HBB-2                1958\n",
       "USP22-1              1933\n",
       "HBB-3                1743\n",
       "                    ...  \n",
       "HTT-1                   5\n",
       "RAB11A-4                5\n",
       "IL2RB-3                 4\n",
       "PIK3CD-1                4\n",
       "ERCC8-3                 2\n",
       "Name: guides, Length: 401, dtype: int64"
      ]
     },
     "execution_count": 8,
     "metadata": {},
     "output_type": "execute_result"
    }
   ],
   "source": [
    "# make labels\n",
    "adata.obs['guides'].value_counts()"
   ]
  },
  {
   "cell_type": "code",
   "execution_count": 10,
   "id": "71a630d4-44a2-4631-b4bf-6150f9692351",
   "metadata": {},
   "outputs": [],
   "source": [
    "adata.obs.loc[adata.obs['guides'].str.startswith(\"Non\"), \"label\"] = \"CONTROL\"\n",
    "adata.obs.loc[adata.obs['guides'] == \"Multiple Guides\", \"label\"] = \"NOISE\"\n",
    "adata.obs.loc[np.logical_and(~(adata.obs['guides'] == \"Multiple Guides\"),\n",
    "                             ~(adata.obs['guides'].str.startswith(\"Non\"))), \"label\"] = \"GUIDE\""
   ]
  },
  {
   "cell_type": "code",
   "execution_count": 12,
   "id": "9a0e3395",
   "metadata": {},
   "outputs": [
    {
     "data": {
      "text/plain": [
       "NOISE      144526\n",
       "GUIDE       57227\n",
       "CONTROL      2621\n",
       "Name: label, dtype: int64"
      ]
     },
     "execution_count": 12,
     "metadata": {},
     "output_type": "execute_result"
    }
   ],
   "source": [
    "adata.obs['label'].value_counts()"
   ]
  },
  {
   "cell_type": "markdown",
   "id": "b10160b9",
   "metadata": {},
   "source": [
    "# add qc columns"
   ]
  },
  {
   "cell_type": "code",
   "execution_count": 16,
   "id": "6d6203ec-818a-47a1-9665-85c94d1317a7",
   "metadata": {},
   "outputs": [
    {
     "data": {
      "text/plain": [
       "Multiplet     37132\n",
       "CTJD02C       28298\n",
       "CTJD02F       26520\n",
       "CTJD02E       24020\n",
       "CTJD02D       23912\n",
       "CTJD02B       21080\n",
       "CTJD02A       17280\n",
       "Blank         13880\n",
       "Unassigned     1718\n",
       "Name: multi_output, dtype: int64"
      ]
     },
     "execution_count": 16,
     "metadata": {},
     "output_type": "execute_result"
    }
   ],
   "source": [
    "adata.obs['multi_output'].value_counts()"
   ]
  },
  {
   "cell_type": "code",
   "execution_count": 17,
   "id": "42033cd6-2cc8-4ae6-a92a-0f928d2fa9bb",
   "metadata": {},
   "outputs": [],
   "source": [
    "adata.obs['SingletorDoublet'] = adata.obs['multi_output'].apply(lambda x: \"Singlet\" if x in [\"CTJD02A\", \"CTJD02B\",\"CTJD02C\",\"CTJD02D\",\"CTJD02E\",\"CTJD02F\",] else \"Multiplet\")"
   ]
  },
  {
   "cell_type": "code",
   "execution_count": 18,
   "id": "950fffd5",
   "metadata": {},
   "outputs": [
    {
     "data": {
      "text/plain": [
       "Singlet      141110\n",
       "Multiplet     52730\n",
       "Name: SingletorDoublet, dtype: int64"
      ]
     },
     "execution_count": 18,
     "metadata": {},
     "output_type": "execute_result"
    }
   ],
   "source": [
    "adata.obs['SingletorDoublet'].value_counts()"
   ]
  },
  {
   "cell_type": "code",
   "execution_count": 20,
   "id": "10f6ff4d-d277-4e3c-92a0-b03ecfb82b34",
   "metadata": {},
   "outputs": [],
   "source": [
    "adata.obs['<10_percent_mt'] = adata.obs['pct_counts_mt'] < 10"
   ]
  },
  {
   "cell_type": "code",
   "execution_count": 38,
   "id": "26dad5ed-673b-475b-95eb-00dbbb72bac7",
   "metadata": {},
   "outputs": [],
   "source": [
    "adata.obs['<100000_total_counts'] = adata.obs['total_counts'] < 100000"
   ]
  },
  {
   "cell_type": "code",
   "execution_count": 39,
   "id": "26e556ab-8c47-42b6-8426-8cbb4b582f95",
   "metadata": {},
   "outputs": [],
   "source": [
    "adata.obs['qc_pass'] = np.logical_and((adata.obs['SingletorDoublet'] == \"Singlet\"),\n",
    "                                      adata.obs['<10_percent_mt'])\n",
    "adata.obs['qc_pass'] = np.logical_and(adata.obs['qc_pass'],\n",
    "                                      adata.obs['<100000_total_counts'])"
   ]
  },
  {
   "cell_type": "code",
   "execution_count": 40,
   "id": "d4e363b4-6e46-4530-8a3f-ac58952688e6",
   "metadata": {},
   "outputs": [
    {
     "data": {
      "text/plain": [
       "True     108458\n",
       "False     95916\n",
       "Name: qc_pass, dtype: int64"
      ]
     },
     "execution_count": 40,
     "metadata": {},
     "output_type": "execute_result"
    }
   ],
   "source": [
    "adata.obs['qc_pass'].value_counts()"
   ]
  },
  {
   "cell_type": "code",
   "execution_count": 45,
   "id": "8d40598e-733c-47bc-b4a5-880e91367434",
   "metadata": {},
   "outputs": [
    {
     "data": {
      "text/plain": [
       "Singlet      141110\n",
       "Multiplet     52730\n",
       "Name: SingletorDoublet, dtype: int64"
      ]
     },
     "execution_count": 45,
     "metadata": {},
     "output_type": "execute_result"
    }
   ],
   "source": [
    "adata.obs['SingletorDoublet'].value_counts()"
   ]
  },
  {
   "cell_type": "code",
   "execution_count": 42,
   "id": "ddfc134c-14a4-4f8f-86d1-57c3e1d60d6d",
   "metadata": {},
   "outputs": [
    {
     "data": {
      "text/plain": [
       "True     164741\n",
       "False     39633\n",
       "Name: <10_percent_mt, dtype: int64"
      ]
     },
     "execution_count": 42,
     "metadata": {},
     "output_type": "execute_result"
    }
   ],
   "source": [
    "adata.obs['<10_percent_mt'].value_counts()"
   ]
  },
  {
   "cell_type": "code",
   "execution_count": 44,
   "id": "7ad22ab1-f8c1-4d8d-865b-ebbeb6a47d16",
   "metadata": {},
   "outputs": [
    {
     "data": {
      "text/plain": [
       "True     204103\n",
       "False       271\n",
       "Name: <100000_total_counts, dtype: int64"
      ]
     },
     "execution_count": 44,
     "metadata": {},
     "output_type": "execute_result"
    }
   ],
   "source": [
    "adata.obs['<100000_total_counts'].value_counts()"
   ]
  },
  {
   "cell_type": "code",
   "execution_count": 46,
   "id": "e74d9bd0-2e2f-41f0-ba64-b1fd50dc6bb8",
   "metadata": {},
   "outputs": [],
   "source": [
    "# Save the quality-controlled h5ad\n",
    "adata.write('/data/aneuploidy/cat_crop/qced.h5ad')"
   ]
  },
  {
   "cell_type": "code",
   "execution_count": 3,
   "id": "d6f89cd6-aa82-4dde-804c-583a9ab8c5dc",
   "metadata": {},
   "outputs": [],
   "source": [
    "adata = sc.read_h5ad('/data/aneuploidy/cat_crop/qced.h5ad')"
   ]
  },
  {
   "cell_type": "code",
   "execution_count": 13,
   "id": "c42ad92a-239f-4f10-bb78-9a7d03fedb4a",
   "metadata": {},
   "outputs": [
    {
     "data": {
      "text/plain": [
       "True     108458\n",
       "False     95916\n",
       "Name: qc_pass, dtype: int64"
      ]
     },
     "execution_count": 13,
     "metadata": {},
     "output_type": "execute_result"
    }
   ],
   "source": [
    "adata.obs['qc_pass'].value_counts()"
   ]
  },
  {
   "cell_type": "code",
   "execution_count": 16,
   "id": "a7e0ccd3-ae12-40ff-8b50-1dcac9bd1ef8",
   "metadata": {},
   "outputs": [
    {
     "data": {
      "text/plain": [
       "NOISE      144526\n",
       "GUIDE       57227\n",
       "CONTROL      2621\n",
       "Name: label, dtype: int64"
      ]
     },
     "execution_count": 16,
     "metadata": {},
     "output_type": "execute_result"
    }
   ],
   "source": [
    "adata.obs['label'].value_counts()"
   ]
  },
  {
   "cell_type": "code",
   "execution_count": 38,
   "id": "9fbfd031-087f-4add-9838-abef830c7874",
   "metadata": {},
   "outputs": [],
   "source": [
    "sc.pp.filter_genes(adata, min_cells=3)"
   ]
  },
  {
   "cell_type": "code",
   "execution_count": 55,
   "id": "bf462666-be9a-4f03-b58c-9aa07f290fa5",
   "metadata": {},
   "outputs": [],
   "source": [
    "adata = adata[:, adata.var['feature_types'] == \"Gene Expression\"]"
   ]
  },
  {
   "cell_type": "code",
   "execution_count": 56,
   "id": "89cb3aa4-4fe7-4e7a-a442-f0ead805f206",
   "metadata": {},
   "outputs": [
    {
     "data": {
      "text/plain": [
       "View of AnnData object with n_obs × n_vars = 204374 × 31506\n",
       "    obs: 'batch', 'aggr_barcode', 'num_features', 'feature_call', 'num_umis', 'maxUmi1', 'maxUmi2', 'cell_barcode', 'guidePvalue', 'pvalueAssign', 'guides', 'multi_output', 'n_genes_by_counts', 'total_counts', 'total_counts_mt', 'pct_counts_mt', 'label', 'SingletorDoublet', '<10_percent_mt', '<10000_total_counts', 'qc_pass', '<100000_total_counts'\n",
       "    var: 'gene_ids', 'feature_types', 'genome', 'mt', 'n_cells_by_counts', 'mean_counts', 'pct_dropout_by_counts', 'total_counts', 'n_cells'"
      ]
     },
     "execution_count": 56,
     "metadata": {},
     "output_type": "execute_result"
    }
   ],
   "source": [
    "adata"
   ]
  },
  {
   "cell_type": "markdown",
   "id": "a4943929",
   "metadata": {},
   "source": [
    "# Divide 203K cells in batches of 23K cells"
   ]
  },
  {
   "cell_type": "code",
   "execution_count": 57,
   "id": "d39298ad",
   "metadata": {},
   "outputs": [],
   "source": [
    "ctrl = adata[np.logical_and(adata.obs['label'] == 'CONTROL',\n",
    "                            adata.obs['qc_pass']),:]"
   ]
  },
  {
   "cell_type": "code",
   "execution_count": 58,
   "id": "4725a206-4859-4e17-9e7b-96572a4a8015",
   "metadata": {},
   "outputs": [
    {
     "data": {
      "text/plain": [
       "View of AnnData object with n_obs × n_vars = 1854 × 31506\n",
       "    obs: 'batch', 'aggr_barcode', 'num_features', 'feature_call', 'num_umis', 'maxUmi1', 'maxUmi2', 'cell_barcode', 'guidePvalue', 'pvalueAssign', 'guides', 'multi_output', 'n_genes_by_counts', 'total_counts', 'total_counts_mt', 'pct_counts_mt', 'label', 'SingletorDoublet', '<10_percent_mt', '<10000_total_counts', 'qc_pass', '<100000_total_counts'\n",
       "    var: 'gene_ids', 'feature_types', 'genome', 'mt', 'n_cells_by_counts', 'mean_counts', 'pct_dropout_by_counts', 'total_counts', 'n_cells'"
      ]
     },
     "execution_count": 58,
     "metadata": {},
     "output_type": "execute_result"
    }
   ],
   "source": [
    "ctrl"
   ]
  },
  {
   "cell_type": "code",
   "execution_count": 59,
   "id": "784308d8",
   "metadata": {},
   "outputs": [],
   "source": [
    "adataGuide = adata[adata.obs['label'] != 'CONTROL']"
   ]
  },
  {
   "cell_type": "code",
   "execution_count": 60,
   "id": "ec042c18-4a03-42f5-9f87-c5a813fb33de",
   "metadata": {},
   "outputs": [
    {
     "data": {
      "text/plain": [
       "View of AnnData object with n_obs × n_vars = 201753 × 31506\n",
       "    obs: 'batch', 'aggr_barcode', 'num_features', 'feature_call', 'num_umis', 'maxUmi1', 'maxUmi2', 'cell_barcode', 'guidePvalue', 'pvalueAssign', 'guides', 'multi_output', 'n_genes_by_counts', 'total_counts', 'total_counts_mt', 'pct_counts_mt', 'label', 'SingletorDoublet', '<10_percent_mt', '<10000_total_counts', 'qc_pass', '<100000_total_counts'\n",
       "    var: 'gene_ids', 'feature_types', 'genome', 'mt', 'n_cells_by_counts', 'mean_counts', 'pct_dropout_by_counts', 'total_counts', 'n_cells'"
      ]
     },
     "execution_count": 60,
     "metadata": {},
     "output_type": "execute_result"
    }
   ],
   "source": [
    "adataGuide"
   ]
  },
  {
   "cell_type": "code",
   "execution_count": 61,
   "id": "0e6f1d0c",
   "metadata": {},
   "outputs": [
    {
     "name": "stderr",
     "output_type": "stream",
     "text": [
      "/home/ssm-user/anaconda3/lib/python3.9/site-packages/anndata/_core/anndata.py:1785: FutureWarning: X.dtype being converted to np.float32 from float64. In the next version of anndata (0.9) conversion will not be automatic. Pass dtype explicitly to avoid this warning. Pass `AnnData(X, dtype=X.dtype, ...)` to get the future behavour.\n",
      "  [AnnData(sparse.csr_matrix(a.shape), obs=a.obs) for a in all_adatas],\n"
     ]
    },
    {
     "data": {
      "text/plain": [
       "AnnData object with n_obs × n_vars = 24854 × 31506\n",
       "    obs: 'batch', 'aggr_barcode', 'num_features', 'feature_call', 'num_umis', 'maxUmi1', 'maxUmi2', 'cell_barcode', 'guidePvalue', 'pvalueAssign', 'guides', 'multi_output', 'n_genes_by_counts', 'total_counts', 'total_counts_mt', 'pct_counts_mt', 'label', 'SingletorDoublet', '<10_percent_mt', '<10000_total_counts', 'qc_pass', '<100000_total_counts'\n",
       "    var: 'gene_ids', 'feature_types', 'genome', 'mt', 'n_cells_by_counts', 'mean_counts', 'pct_dropout_by_counts', 'total_counts', 'n_cells'"
      ]
     },
     "execution_count": 61,
     "metadata": {},
     "output_type": "execute_result"
    }
   ],
   "source": [
    "batch1 = adataGuide[adataGuide.obs.index[0:23000].values, ]\n",
    "batch1 = batch1.concatenate(ctrl)\n",
    "batch1"
   ]
  },
  {
   "cell_type": "code",
   "execution_count": 62,
   "id": "7bed0874",
   "metadata": {},
   "outputs": [],
   "source": [
    "# Performing batch1 with different labels\n",
    "#batch1.obs.loc[batch1.obs['labels'].isin(['GUIDE','NOISE']), 'labels'] = 'NOT CONTROL'"
   ]
  },
  {
   "cell_type": "code",
   "execution_count": 63,
   "id": "9d0d26e9",
   "metadata": {},
   "outputs": [
    {
     "data": {
      "text/plain": [
       "NOISE      16780\n",
       "GUIDE       6220\n",
       "CONTROL     1854\n",
       "Name: label, dtype: int64"
      ]
     },
     "execution_count": 63,
     "metadata": {},
     "output_type": "execute_result"
    }
   ],
   "source": [
    "batch1.obs['label'].value_counts()"
   ]
  },
  {
   "cell_type": "code",
   "execution_count": 64,
   "id": "bb1f28c1",
   "metadata": {},
   "outputs": [
    {
     "name": "stderr",
     "output_type": "stream",
     "text": [
      "/home/ssm-user/anaconda3/lib/python3.9/site-packages/anndata/_core/anndata.py:1785: FutureWarning: X.dtype being converted to np.float32 from float64. In the next version of anndata (0.9) conversion will not be automatic. Pass dtype explicitly to avoid this warning. Pass `AnnData(X, dtype=X.dtype, ...)` to get the future behavour.\n",
      "  [AnnData(sparse.csr_matrix(a.shape), obs=a.obs) for a in all_adatas],\n"
     ]
    },
    {
     "data": {
      "text/plain": [
       "AnnData object with n_obs × n_vars = 24853 × 31506\n",
       "    obs: 'batch', 'aggr_barcode', 'num_features', 'feature_call', 'num_umis', 'maxUmi1', 'maxUmi2', 'cell_barcode', 'guidePvalue', 'pvalueAssign', 'guides', 'multi_output', 'n_genes_by_counts', 'total_counts', 'total_counts_mt', 'pct_counts_mt', 'label', 'SingletorDoublet', '<10_percent_mt', '<10000_total_counts', 'qc_pass', '<100000_total_counts'\n",
       "    var: 'gene_ids', 'feature_types', 'genome', 'mt', 'n_cells_by_counts', 'mean_counts', 'pct_dropout_by_counts', 'total_counts', 'n_cells'"
      ]
     },
     "execution_count": 64,
     "metadata": {},
     "output_type": "execute_result"
    }
   ],
   "source": [
    "batch2 = adataGuide[adataGuide.obs.index[23001:46000].values, ]\n",
    "batch2 = batch2.concatenate(ctrl)\n",
    "batch2"
   ]
  },
  {
   "cell_type": "code",
   "execution_count": 65,
   "id": "24546d8c",
   "metadata": {},
   "outputs": [
    {
     "name": "stderr",
     "output_type": "stream",
     "text": [
      "/home/ssm-user/anaconda3/lib/python3.9/site-packages/anndata/_core/anndata.py:1785: FutureWarning: X.dtype being converted to np.float32 from float64. In the next version of anndata (0.9) conversion will not be automatic. Pass dtype explicitly to avoid this warning. Pass `AnnData(X, dtype=X.dtype, ...)` to get the future behavour.\n",
      "  [AnnData(sparse.csr_matrix(a.shape), obs=a.obs) for a in all_adatas],\n"
     ]
    },
    {
     "data": {
      "text/plain": [
       "AnnData object with n_obs × n_vars = 24853 × 31506\n",
       "    obs: 'batch', 'aggr_barcode', 'num_features', 'feature_call', 'num_umis', 'maxUmi1', 'maxUmi2', 'cell_barcode', 'guidePvalue', 'pvalueAssign', 'guides', 'multi_output', 'n_genes_by_counts', 'total_counts', 'total_counts_mt', 'pct_counts_mt', 'label', 'SingletorDoublet', '<10_percent_mt', '<10000_total_counts', 'qc_pass', '<100000_total_counts'\n",
       "    var: 'gene_ids', 'feature_types', 'genome', 'mt', 'n_cells_by_counts', 'mean_counts', 'pct_dropout_by_counts', 'total_counts', 'n_cells'"
      ]
     },
     "execution_count": 65,
     "metadata": {},
     "output_type": "execute_result"
    }
   ],
   "source": [
    "batch3 = adataGuide[adataGuide.obs.index[46001:69000], ]\n",
    "batch3 = batch3.concatenate(ctrl)\n",
    "batch3"
   ]
  },
  {
   "cell_type": "code",
   "execution_count": 66,
   "id": "f56f256b",
   "metadata": {},
   "outputs": [
    {
     "name": "stderr",
     "output_type": "stream",
     "text": [
      "/home/ssm-user/anaconda3/lib/python3.9/site-packages/anndata/_core/anndata.py:1785: FutureWarning: X.dtype being converted to np.float32 from float64. In the next version of anndata (0.9) conversion will not be automatic. Pass dtype explicitly to avoid this warning. Pass `AnnData(X, dtype=X.dtype, ...)` to get the future behavour.\n",
      "  [AnnData(sparse.csr_matrix(a.shape), obs=a.obs) for a in all_adatas],\n"
     ]
    },
    {
     "data": {
      "text/plain": [
       "AnnData object with n_obs × n_vars = 24853 × 31506\n",
       "    obs: 'batch', 'aggr_barcode', 'num_features', 'feature_call', 'num_umis', 'maxUmi1', 'maxUmi2', 'cell_barcode', 'guidePvalue', 'pvalueAssign', 'guides', 'multi_output', 'n_genes_by_counts', 'total_counts', 'total_counts_mt', 'pct_counts_mt', 'label', 'SingletorDoublet', '<10_percent_mt', '<10000_total_counts', 'qc_pass', '<100000_total_counts'\n",
       "    var: 'gene_ids', 'feature_types', 'genome', 'mt', 'n_cells_by_counts', 'mean_counts', 'pct_dropout_by_counts', 'total_counts', 'n_cells'"
      ]
     },
     "execution_count": 66,
     "metadata": {},
     "output_type": "execute_result"
    }
   ],
   "source": [
    "batch4 = adataGuide[adataGuide.obs.index[69001:92000], ]\n",
    "batch4 = batch4.concatenate(ctrl)\n",
    "batch4"
   ]
  },
  {
   "cell_type": "code",
   "execution_count": 67,
   "id": "0a6e31b1",
   "metadata": {},
   "outputs": [
    {
     "name": "stderr",
     "output_type": "stream",
     "text": [
      "/home/ssm-user/anaconda3/lib/python3.9/site-packages/anndata/_core/anndata.py:1785: FutureWarning: X.dtype being converted to np.float32 from float64. In the next version of anndata (0.9) conversion will not be automatic. Pass dtype explicitly to avoid this warning. Pass `AnnData(X, dtype=X.dtype, ...)` to get the future behavour.\n",
      "  [AnnData(sparse.csr_matrix(a.shape), obs=a.obs) for a in all_adatas],\n"
     ]
    },
    {
     "data": {
      "text/plain": [
       "AnnData object with n_obs × n_vars = 24853 × 31506\n",
       "    obs: 'batch', 'aggr_barcode', 'num_features', 'feature_call', 'num_umis', 'maxUmi1', 'maxUmi2', 'cell_barcode', 'guidePvalue', 'pvalueAssign', 'guides', 'multi_output', 'n_genes_by_counts', 'total_counts', 'total_counts_mt', 'pct_counts_mt', 'label', 'SingletorDoublet', '<10_percent_mt', '<10000_total_counts', 'qc_pass', '<100000_total_counts'\n",
       "    var: 'gene_ids', 'feature_types', 'genome', 'mt', 'n_cells_by_counts', 'mean_counts', 'pct_dropout_by_counts', 'total_counts', 'n_cells'"
      ]
     },
     "execution_count": 67,
     "metadata": {},
     "output_type": "execute_result"
    }
   ],
   "source": [
    "batch5 = adataGuide[adataGuide.obs.index[92001:115000], ]\n",
    "batch5 = batch5.concatenate(ctrl)\n",
    "batch5"
   ]
  },
  {
   "cell_type": "code",
   "execution_count": 68,
   "id": "b1b4b5fc",
   "metadata": {},
   "outputs": [
    {
     "name": "stderr",
     "output_type": "stream",
     "text": [
      "/home/ssm-user/anaconda3/lib/python3.9/site-packages/anndata/_core/anndata.py:1785: FutureWarning: X.dtype being converted to np.float32 from float64. In the next version of anndata (0.9) conversion will not be automatic. Pass dtype explicitly to avoid this warning. Pass `AnnData(X, dtype=X.dtype, ...)` to get the future behavour.\n",
      "  [AnnData(sparse.csr_matrix(a.shape), obs=a.obs) for a in all_adatas],\n"
     ]
    },
    {
     "data": {
      "text/plain": [
       "AnnData object with n_obs × n_vars = 24853 × 31506\n",
       "    obs: 'batch', 'aggr_barcode', 'num_features', 'feature_call', 'num_umis', 'maxUmi1', 'maxUmi2', 'cell_barcode', 'guidePvalue', 'pvalueAssign', 'guides', 'multi_output', 'n_genes_by_counts', 'total_counts', 'total_counts_mt', 'pct_counts_mt', 'label', 'SingletorDoublet', '<10_percent_mt', '<10000_total_counts', 'qc_pass', '<100000_total_counts'\n",
       "    var: 'gene_ids', 'feature_types', 'genome', 'mt', 'n_cells_by_counts', 'mean_counts', 'pct_dropout_by_counts', 'total_counts', 'n_cells'"
      ]
     },
     "execution_count": 68,
     "metadata": {},
     "output_type": "execute_result"
    }
   ],
   "source": [
    "batch6 = adataGuide[adataGuide.obs.index[115001:138000], ]\n",
    "batch6 = batch6.concatenate(ctrl)\n",
    "batch6"
   ]
  },
  {
   "cell_type": "code",
   "execution_count": 69,
   "id": "9cd3eb38",
   "metadata": {},
   "outputs": [
    {
     "name": "stderr",
     "output_type": "stream",
     "text": [
      "/home/ssm-user/anaconda3/lib/python3.9/site-packages/anndata/_core/anndata.py:1785: FutureWarning: X.dtype being converted to np.float32 from float64. In the next version of anndata (0.9) conversion will not be automatic. Pass dtype explicitly to avoid this warning. Pass `AnnData(X, dtype=X.dtype, ...)` to get the future behavour.\n",
      "  [AnnData(sparse.csr_matrix(a.shape), obs=a.obs) for a in all_adatas],\n"
     ]
    },
    {
     "data": {
      "text/plain": [
       "AnnData object with n_obs × n_vars = 24853 × 31506\n",
       "    obs: 'batch', 'aggr_barcode', 'num_features', 'feature_call', 'num_umis', 'maxUmi1', 'maxUmi2', 'cell_barcode', 'guidePvalue', 'pvalueAssign', 'guides', 'multi_output', 'n_genes_by_counts', 'total_counts', 'total_counts_mt', 'pct_counts_mt', 'label', 'SingletorDoublet', '<10_percent_mt', '<10000_total_counts', 'qc_pass', '<100000_total_counts'\n",
       "    var: 'gene_ids', 'feature_types', 'genome', 'mt', 'n_cells_by_counts', 'mean_counts', 'pct_dropout_by_counts', 'total_counts', 'n_cells'"
      ]
     },
     "execution_count": 69,
     "metadata": {},
     "output_type": "execute_result"
    }
   ],
   "source": [
    "batch7 = adataGuide[adataGuide.obs.index[138001:161000], ]\n",
    "batch7 = batch7.concatenate(ctrl)\n",
    "batch7"
   ]
  },
  {
   "cell_type": "code",
   "execution_count": 70,
   "id": "3851a8d2",
   "metadata": {},
   "outputs": [
    {
     "name": "stderr",
     "output_type": "stream",
     "text": [
      "/home/ssm-user/anaconda3/lib/python3.9/site-packages/anndata/_core/anndata.py:1785: FutureWarning: X.dtype being converted to np.float32 from float64. In the next version of anndata (0.9) conversion will not be automatic. Pass dtype explicitly to avoid this warning. Pass `AnnData(X, dtype=X.dtype, ...)` to get the future behavour.\n",
      "  [AnnData(sparse.csr_matrix(a.shape), obs=a.obs) for a in all_adatas],\n"
     ]
    },
    {
     "data": {
      "text/plain": [
       "AnnData object with n_obs × n_vars = 24853 × 31506\n",
       "    obs: 'batch', 'aggr_barcode', 'num_features', 'feature_call', 'num_umis', 'maxUmi1', 'maxUmi2', 'cell_barcode', 'guidePvalue', 'pvalueAssign', 'guides', 'multi_output', 'n_genes_by_counts', 'total_counts', 'total_counts_mt', 'pct_counts_mt', 'label', 'SingletorDoublet', '<10_percent_mt', '<10000_total_counts', 'qc_pass', '<100000_total_counts'\n",
       "    var: 'gene_ids', 'feature_types', 'genome', 'mt', 'n_cells_by_counts', 'mean_counts', 'pct_dropout_by_counts', 'total_counts', 'n_cells'"
      ]
     },
     "execution_count": 70,
     "metadata": {},
     "output_type": "execute_result"
    }
   ],
   "source": [
    "batch8 = adataGuide[adataGuide.obs.index[161001:184000], ]\n",
    "batch8 = batch8.concatenate(ctrl)\n",
    "batch8"
   ]
  },
  {
   "cell_type": "code",
   "execution_count": 71,
   "id": "07120096",
   "metadata": {},
   "outputs": [
    {
     "name": "stderr",
     "output_type": "stream",
     "text": [
      "/home/ssm-user/anaconda3/lib/python3.9/site-packages/anndata/_core/anndata.py:1785: FutureWarning: X.dtype being converted to np.float32 from float64. In the next version of anndata (0.9) conversion will not be automatic. Pass dtype explicitly to avoid this warning. Pass `AnnData(X, dtype=X.dtype, ...)` to get the future behavour.\n",
      "  [AnnData(sparse.csr_matrix(a.shape), obs=a.obs) for a in all_adatas],\n"
     ]
    },
    {
     "data": {
      "text/plain": [
       "AnnData object with n_obs × n_vars = 19606 × 31506\n",
       "    obs: 'batch', 'aggr_barcode', 'num_features', 'feature_call', 'num_umis', 'maxUmi1', 'maxUmi2', 'cell_barcode', 'guidePvalue', 'pvalueAssign', 'guides', 'multi_output', 'n_genes_by_counts', 'total_counts', 'total_counts_mt', 'pct_counts_mt', 'label', 'SingletorDoublet', '<10_percent_mt', '<10000_total_counts', 'qc_pass', '<100000_total_counts'\n",
       "    var: 'gene_ids', 'feature_types', 'genome', 'mt', 'n_cells_by_counts', 'mean_counts', 'pct_dropout_by_counts', 'total_counts', 'n_cells'"
      ]
     },
     "execution_count": 71,
     "metadata": {},
     "output_type": "execute_result"
    }
   ],
   "source": [
    "batch9 = adataGuide[adataGuide.obs.index[184001:len(adataGuide.obs.index)], ]\n",
    "batch9 = batch9.concatenate(ctrl)\n",
    "batch9"
   ]
  },
  {
   "cell_type": "markdown",
   "id": "a15414a0",
   "metadata": {},
   "source": [
    "# Get input files for all cells"
   ]
  },
  {
   "cell_type": "code",
   "execution_count": 73,
   "id": "ea306286",
   "metadata": {},
   "outputs": [],
   "source": [
    "def getInputInferCnv(adata, guides, filename):\n",
    "    # Annotations\n",
    "    adata.obs[guides] = adata.obs[guides].astype('str')\n",
    "    annotations = pd.DataFrame(adata.obs[guides])\n",
    "    annotations.reset_index(inplace = True)\n",
    "#     print(annotations.head())\n",
    "    annotations[guides] = annotations[guides].astype('str')\n",
    "    annotations.to_csv(f'/data/aneuploidy/infercnv/annotations_{filename}.csv', index=False, header=False)\n",
    "    # Counts \n",
    "    countMatrix = anndata.AnnData(\n",
    "    X = adata.X,\n",
    "    )\n",
    "    countMatrix.write_h5ad(f'/data/aneuploidy/infercnv/counts_{filename}.h5ad')\n",
    "    # Genes \n",
    "    geneDf = pd.DataFrame(adata.var['gene_ids'])\n",
    "    geneDf.reset_index(inplace = True)\n",
    "    geneDf.to_csv(f'/data/aneuploidy/infercnv/genes_{filename}.csv', index=False, header=False)"
   ]
  },
  {
   "cell_type": "code",
   "execution_count": 74,
   "id": "d5f7763a",
   "metadata": {},
   "outputs": [],
   "source": [
    "getInputInferCnv(batch1, 'label', 'Batch1')"
   ]
  },
  {
   "cell_type": "code",
   "execution_count": 75,
   "id": "8a0c7f19",
   "metadata": {},
   "outputs": [],
   "source": [
    "getInputInferCnv(batch2, 'label', 'Batch2')"
   ]
  },
  {
   "cell_type": "code",
   "execution_count": 76,
   "id": "2252f763",
   "metadata": {},
   "outputs": [],
   "source": [
    "getInputInferCnv(batch3, 'label', 'Batch3')"
   ]
  },
  {
   "cell_type": "code",
   "execution_count": 77,
   "id": "09a20632",
   "metadata": {},
   "outputs": [],
   "source": [
    "getInputInferCnv(batch4, 'label', 'Batch4')"
   ]
  },
  {
   "cell_type": "code",
   "execution_count": 78,
   "id": "e6f7336f",
   "metadata": {},
   "outputs": [],
   "source": [
    "getInputInferCnv(batch5, 'label', 'Batch5')"
   ]
  },
  {
   "cell_type": "code",
   "execution_count": 79,
   "id": "30618090",
   "metadata": {},
   "outputs": [],
   "source": [
    "getInputInferCnv(batch6, 'label', 'Batch6')"
   ]
  },
  {
   "cell_type": "code",
   "execution_count": 80,
   "id": "6af4f94a",
   "metadata": {},
   "outputs": [],
   "source": [
    "getInputInferCnv(batch7, 'label', 'Batch7')"
   ]
  },
  {
   "cell_type": "code",
   "execution_count": 81,
   "id": "61349b85",
   "metadata": {},
   "outputs": [],
   "source": [
    "getInputInferCnv(batch8, 'label', 'Batch8')"
   ]
  },
  {
   "cell_type": "code",
   "execution_count": 82,
   "id": "7859691c",
   "metadata": {},
   "outputs": [],
   "source": [
    "getInputInferCnv(batch9, 'label', 'Batch9')"
   ]
  },
  {
   "cell_type": "code",
   "execution_count": null,
   "id": "7c398ccd-ed0a-4bdc-930a-f9f743d9ef29",
   "metadata": {},
   "outputs": [],
   "source": []
  }
 ],
 "metadata": {
  "kernelspec": {
   "display_name": "Python 3 (ipykernel)",
   "language": "python",
   "name": "python3"
  },
  "language_info": {
   "codemirror_mode": {
    "name": "ipython",
    "version": 3
   },
   "file_extension": ".py",
   "mimetype": "text/x-python",
   "name": "python",
   "nbconvert_exporter": "python",
   "pygments_lexer": "ipython3",
   "version": "3.8.12"
  }
 },
 "nbformat": 4,
 "nbformat_minor": 5
}
