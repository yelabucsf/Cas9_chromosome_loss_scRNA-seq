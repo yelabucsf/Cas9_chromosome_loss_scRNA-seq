{
 "cells": [
  {
   "cell_type": "code",
   "execution_count": 1,
   "id": "68e509bd",
   "metadata": {},
   "outputs": [],
   "source": [
    "import scanpy as sc\n",
    "import pandas as pd\n",
    "import numpy as np \n",
    "import seaborn as sn\n",
    "from scipy.stats import binom\n",
    "from matplotlib import rcParams\n",
    "import matplotlib.pyplot as plt"
   ]
  },
  {
   "cell_type": "markdown",
   "id": "bd624ddd",
   "metadata": {},
   "source": [
    "# Read in adata"
   ]
  },
  {
   "cell_type": "code",
   "execution_count": 10,
   "id": "8c815319",
   "metadata": {},
   "outputs": [
    {
     "name": "stderr",
     "output_type": "stream",
     "text": [
      "/home/ssm-user/anaconda3/lib/python3.10/site-packages/anndata/_core/anndata.py:1832: UserWarning: Variable names are not unique. To make them unique, call `.var_names_make_unique`.\n",
      "  utils.warn_names_duplicates(\"var\")\n",
      "/home/ssm-user/anaconda3/lib/python3.10/site-packages/anndata/_core/anndata.py:1832: UserWarning: Variable names are not unique. To make them unique, call `.var_names_make_unique`.\n",
      "  utils.warn_names_duplicates(\"var\")\n",
      "/home/ssm-user/anaconda3/lib/python3.10/site-packages/anndata/_core/anndata.py:1832: UserWarning: Variable names are not unique. To make them unique, call `.var_names_make_unique`.\n",
      "  utils.warn_names_duplicates(\"var\")\n",
      "/home/ssm-user/anaconda3/lib/python3.10/site-packages/anndata/_core/anndata.py:1832: UserWarning: Variable names are not unique. To make them unique, call `.var_names_make_unique`.\n",
      "  utils.warn_names_duplicates(\"var\")\n",
      "/home/ssm-user/anaconda3/lib/python3.10/site-packages/anndata/_core/anndata.py:1832: UserWarning: Variable names are not unique. To make them unique, call `.var_names_make_unique`.\n",
      "  utils.warn_names_duplicates(\"var\")\n",
      "/home/ssm-user/anaconda3/lib/python3.10/site-packages/anndata/_core/anndata.py:1832: UserWarning: Variable names are not unique. To make them unique, call `.var_names_make_unique`.\n",
      "  utils.warn_names_duplicates(\"var\")\n"
     ]
    }
   ],
   "source": [
    "file_list = ['/data/aneuploidy/cat_crop/' + x + '/filtered_feature_bc_matrix.h5' for x in ['A','B','C','D','E','F']]\n",
    "adata_list = [sc.read_10x_h5(file, gex_only=False) for file in file_list]"
   ]
  },
  {
   "cell_type": "code",
   "execution_count": 11,
   "id": "228b40b6-bc4c-4f0a-b5ec-88f64bfb5275",
   "metadata": {},
   "outputs": [
    {
     "data": {
      "text/plain": [
       "[None, None, None, None, None, None]"
      ]
     },
     "execution_count": 11,
     "metadata": {},
     "output_type": "execute_result"
    }
   ],
   "source": [
    "[adata.var_names_make_unique() for adata in adata_list]"
   ]
  },
  {
   "cell_type": "code",
   "execution_count": 12,
   "id": "6b9cd697-555b-4798-aad6-20f9658a927c",
   "metadata": {},
   "outputs": [
    {
     "name": "stderr",
     "output_type": "stream",
     "text": [
      "/home/ssm-user/anaconda3/lib/python3.10/site-packages/anndata/_core/anndata.py:1755: FutureWarning: The AnnData.concatenate method is deprecated in favour of the anndata.concat function. Please use anndata.concat instead.\n",
      "\n",
      "See the tutorial for concat at: https://anndata.readthedocs.io/en/latest/concatenation.html\n",
      "  warnings.warn(\n"
     ]
    }
   ],
   "source": [
    "adata = adata_list[0].concatenate(adata_list[1:])"
   ]
  },
  {
   "cell_type": "code",
   "execution_count": 13,
   "id": "48be3df2-86f2-4d2f-bb42-5e406abb0600",
   "metadata": {},
   "outputs": [
    {
     "data": {
      "text/plain": [
       "AnnData object with n_obs × n_vars = 206976 × 37001\n",
       "    obs: 'batch'\n",
       "    var: 'gene_ids', 'feature_types', 'genome'"
      ]
     },
     "execution_count": 13,
     "metadata": {},
     "output_type": "execute_result"
    }
   ],
   "source": [
    "adata"
   ]
  },
  {
   "cell_type": "markdown",
   "id": "b807f00c-33b9-4b77-b3d2-84db1b4c2985",
   "metadata": {},
   "source": [
    "# Read guide data "
   ]
  },
  {
   "cell_type": "code",
   "execution_count": 14,
   "id": "40dbf00d-3cb2-4d96-aa13-079f0ec66755",
   "metadata": {},
   "outputs": [],
   "source": [
    "file_list = ['/data/aneuploidy/cat_crop/' + x + '/protospacer_calls_per_cell.csv' for x in ['A','B','C','D','E','F']]\n",
    "guides_list = [pd.read_csv(file) for file in file_list]"
   ]
  },
  {
   "cell_type": "code",
   "execution_count": 15,
   "id": "b89f1f3a-4a96-4bdb-9d77-ed8c086cfa09",
   "metadata": {},
   "outputs": [],
   "source": [
    "for batch, guides in enumerate(guides_list):\n",
    "    guides['cell_barcode'] = guides['cell_barcode'] + \"-\" + str(batch)"
   ]
  },
  {
   "cell_type": "code",
   "execution_count": 16,
   "id": "e9685de6-abba-4302-8a44-345e68b1fc04",
   "metadata": {},
   "outputs": [],
   "source": [
    "guides = pd.concat(guides_list)\n",
    "adata.obs['aggr_barcode'] = adata.obs.index\n",
    "guides.columns = [\"aggr_barcode\"] + list(guides.columns[1:])"
   ]
  },
  {
   "cell_type": "code",
   "execution_count": 17,
   "id": "29880429-efc2-43e9-99e9-ca482d2f7410",
   "metadata": {},
   "outputs": [],
   "source": [
    "guideMeta = pd.merge(adata.obs, guides, on = 'aggr_barcode', how = 'left')\n",
    "guideMeta.index = guideMeta['aggr_barcode']\n",
    "adata.obs = guideMeta"
   ]
  },
  {
   "cell_type": "code",
   "execution_count": 18,
   "id": "43a1843e",
   "metadata": {},
   "outputs": [],
   "source": [
    "# remove cells with no guide calls whatsoever\n",
    "adata = adata[~adata.obs['num_umis'].isnull(),:]"
   ]
  },
  {
   "cell_type": "code",
   "execution_count": 19,
   "id": "c7bce368",
   "metadata": {},
   "outputs": [
    {
     "data": {
      "text/plain": [
       "View of AnnData object with n_obs × n_vars = 204374 × 37001\n",
       "    obs: 'batch', 'aggr_barcode', 'num_features', 'feature_call', 'num_umis'\n",
       "    var: 'gene_ids', 'feature_types', 'genome'"
      ]
     },
     "execution_count": 19,
     "metadata": {},
     "output_type": "execute_result"
    }
   ],
   "source": [
    "adata"
   ]
  },
  {
   "cell_type": "code",
   "execution_count": null,
   "id": "728990ee-7faa-4621-8754-1640dce1bbae",
   "metadata": {},
   "outputs": [],
   "source": []
  },
  {
   "cell_type": "markdown",
   "id": "2323af37-d9dc-46d9-aa04-9ae4facdb092",
   "metadata": {},
   "source": [
    "# Processing guide data"
   ]
  },
  {
   "cell_type": "code",
   "execution_count": 20,
   "id": "989acdb7",
   "metadata": {},
   "outputs": [],
   "source": [
    "listUmi = []\n",
    "umiCountsFirstMax = []\n",
    "umiCountsSecMax = []\n",
    "for umi in adata.obs['num_umis']:\n",
    "    umiList = [int(x) for x in umi.split('|')]\n",
    "    listUmi.append(umiList)\n",
    "    umiList.sort()\n",
    "    firstMax = len(umiList) - 1\n",
    "    secondMax = firstMax - 1\n",
    "#     print(umiList)\n",
    "    umiCountsFirstMax.append(umiList[firstMax])\n",
    "    umiCountsSecMax.append(umiList[secondMax])"
   ]
  },
  {
   "cell_type": "code",
   "execution_count": 21,
   "id": "fc4434c9",
   "metadata": {},
   "outputs": [
    {
     "name": "stderr",
     "output_type": "stream",
     "text": [
      "/tmp/ipykernel_1690098/3074645891.py:5: ImplicitModificationWarning: Trying to modify attribute `.obs` of view, initializing view as actual.\n",
      "  adata.obs['umiList'] = listUmi\n"
     ]
    }
   ],
   "source": [
    "listUmi = []\n",
    "for umi in adata.obs['num_umis']:\n",
    "    umiList = [int(x) for x in umi.split('|')]\n",
    "    listUmi.append(umiList)\n",
    "adata.obs['umiList'] = listUmi"
   ]
  },
  {
   "cell_type": "code",
   "execution_count": 22,
   "id": "b49b2c65",
   "metadata": {},
   "outputs": [],
   "source": [
    "featureList = []\n",
    "for feature in adata.obs['feature_call']:\n",
    "    features = [str(x) for x in feature.split('|')]\n",
    "    featureList.append(features)\n",
    "adata.obs['featureList'] = featureList"
   ]
  },
  {
   "cell_type": "code",
   "execution_count": 23,
   "id": "17288517",
   "metadata": {},
   "outputs": [],
   "source": [
    "adata.obs['maxUmi1'] = umiCountsFirstMax\n",
    "adata.obs['maxUmi2'] = umiCountsSecMax"
   ]
  },
  {
   "cell_type": "code",
   "execution_count": 24,
   "id": "3a99a4f5",
   "metadata": {},
   "outputs": [
    {
     "data": {
      "text/plain": [
       "[<matplotlib.lines.Line2D at 0x7fa7aba22950>]"
      ]
     },
     "execution_count": 24,
     "metadata": {},
     "output_type": "execute_result"
    },
    {
     "data": {
      "image/png": "[encoded data removed]",
      "text/plain": [
       "<Figure size 300x300 with 1 Axes>"
      ]
     },
     "metadata": {},
     "output_type": "display_data"
    }
   ],
   "source": [
    "fig, ax = plt.subplots(nrows=1,ncols=1,figsize=(3,3))\n",
    "sn.scatterplot(data = adata.obs, x = 'maxUmi1', y = 'maxUmi2', ax = ax)\n",
    "ax.plot([0, 80], [0, 80], color = 'k')"
   ]
  },
  {
   "cell_type": "code",
   "execution_count": 25,
   "id": "305de1f9-e684-4f7f-a8e0-751b164d8302",
   "metadata": {},
   "outputs": [],
   "source": [
    "adata.obs['cell_barcode'] = adata.obs['aggr_barcode'].str.slice(0,18)"
   ]
  },
  {
   "cell_type": "markdown",
   "id": "b2f35599",
   "metadata": {},
   "source": [
    "# Assigning Guides using a binomial distribution"
   ]
  },
  {
   "cell_type": "code",
   "execution_count": 26,
   "id": "e64cea5a",
   "metadata": {},
   "outputs": [],
   "source": [
    "guidePvalue = []\n",
    "p = 0.5 # null hypothesis that the probability of selecting either guide is 50/50\n",
    "for i in adata.obs.index:\n",
    "    n = adata.obs.loc[i, 'maxUmi1'] + adata.obs.loc[i, 'maxUmi2']\n",
    "    pval = binom.sf(adata.obs.loc[i, 'maxUmi1'] - 1, n, p) # binomial distribution\n",
    "    guidePvalue.append(pval)\n",
    "    \n",
    "# Assign new column\n",
    "adata.obs['guidePvalue'] = guidePvalue\n",
    "# assign single or multiple guide based off of pvalue\n",
    "adata.obs['pvalueAssign'] = adata.obs['guidePvalue'].apply(lambda x: 'SingleGuide' if x <= 0.1 else 'MultipleGuide')\n",
    "\n",
    "# Assign guides\n",
    "guides = []\n",
    "for i in adata.obs.index:\n",
    "    if adata.obs.loc[i, 'pvalueAssign'] == 'SingleGuide':\n",
    "        maxUmiIdx = max(adata.obs.loc[i, 'maxUmi1'],adata.obs.loc[i, 'maxUmi2'])\n",
    "        featureIdx = adata.obs.loc[i, 'umiList'].index(maxUmiIdx)\n",
    "#         featureIdx = adata.obs.loc[i, 'umiList'].index(umiIdx)\n",
    "        guides.append(adata.obs.loc[i, 'featureList'][featureIdx])\n",
    "    else:\n",
    "        guides.append('Multiple Guides')\n",
    "\n",
    "adata.obs['guides'] = guides"
   ]
  },
  {
   "cell_type": "code",
   "execution_count": 27,
   "id": "04df5685",
   "metadata": {},
   "outputs": [
    {
     "data": {
      "text/plain": [
       "<seaborn.axisgrid.FacetGrid at 0x7fa7ab8ef850>"
      ]
     },
     "execution_count": 27,
     "metadata": {},
     "output_type": "execute_result"
    },
    {
     "data": {
      "image/png": "[encoded data removed]",
      "text/plain": [
       "<Figure size 300x300 with 1 Axes>"
      ]
     },
     "metadata": {},
     "output_type": "display_data"
    }
   ],
   "source": [
    "sn.displot(adata.obs['guidePvalue'], kind = 'kde', height=3, aspect=3/3)"
   ]
  },
  {
   "cell_type": "code",
   "execution_count": 28,
   "id": "a5d595cb",
   "metadata": {},
   "outputs": [
    {
     "data": {
      "text/plain": [
       "MultipleGuide    144526\n",
       "SingleGuide       59848\n",
       "Name: pvalueAssign, dtype: int64"
      ]
     },
     "execution_count": 28,
     "metadata": {},
     "output_type": "execute_result"
    }
   ],
   "source": [
    "adata.obs['pvalueAssign'].value_counts()"
   ]
  },
  {
   "cell_type": "code",
   "execution_count": 29,
   "id": "535438bd-8c6b-49b2-b07b-1cdba37b7d53",
   "metadata": {},
   "outputs": [],
   "source": [
    "adata.obs = adata.obs.drop('umiList', axis = 1)"
   ]
  },
  {
   "cell_type": "code",
   "execution_count": 30,
   "id": "6740fd3d-926b-4fd1-a728-eb327998c5d2",
   "metadata": {},
   "outputs": [],
   "source": [
    "adata.obs = adata.obs.drop('featureList', axis = 1)"
   ]
  },
  {
   "cell_type": "code",
   "execution_count": 31,
   "id": "aff47cd3",
   "metadata": {
    "scrolled": true
   },
   "outputs": [
    {
     "data": {
      "text/plain": [
       "Multiple Guides    144526\n",
       "ADA2-1               2029\n",
       "HBB-2                1958\n",
       "USP22-1              1933\n",
       "HBB-3                1743\n",
       "                    ...  \n",
       "CIITA-4                 5\n",
       "HTT-1                   5\n",
       "IL2RB-3                 4\n",
       "PIK3CD-1                4\n",
       "ERCC8-3                 2\n",
       "Name: guides, Length: 401, dtype: int64"
      ]
     },
     "execution_count": 31,
     "metadata": {},
     "output_type": "execute_result"
    }
   ],
   "source": [
    "adata.obs['guides'].value_counts()"
   ]
  },
  {
   "cell_type": "code",
   "execution_count": null,
   "id": "91eb2fee",
   "metadata": {},
   "outputs": [],
   "source": []
  },
  {
   "cell_type": "markdown",
   "id": "47ae8c1d",
   "metadata": {},
   "source": [
    "# Add multi-seq outputs to adata"
   ]
  },
  {
   "cell_type": "code",
   "execution_count": 33,
   "id": "b8500a99",
   "metadata": {},
   "outputs": [],
   "source": [
    "def get_multi_output(x, batch):\n",
    "    if not pd.isna(x['multi_output']):\n",
    "        return x['multi_output']\n",
    "    if x['batch'] != batch:\n",
    "        return np.NaN\n",
    "    try:\n",
    "        return multi_dict[x['cell_barcode']]    \n",
    "    except KeyError:\n",
    "        return np.NaN"
   ]
  },
  {
   "cell_type": "code",
   "execution_count": 36,
   "id": "9f6d1482",
   "metadata": {},
   "outputs": [
    {
     "name": "stdout",
     "output_type": "stream",
     "text": [
      "Processed sample 1/6\n",
      "Processed sample 2/6\n",
      "Processed sample 3/6\n",
      "Processed sample 4/6\n",
      "Processed sample 5/6\n",
      "Processed sample 6/6\n"
     ]
    }
   ],
   "source": [
    "adata.obs['multi_output'] = np.NaN\n",
    "for i in range(6):\n",
    "    multi = pd.read_csv(\"/data/aneuploidy/cat_crop/multi_outs/sample\" + str(i + 1) + \"/assignment_confidence_table.csv\", index_col = \"Row\")\n",
    "    multi_dict = dict(zip(multi['Barcode'], multi['Assignment']))\n",
    "    adata.obs['multi_output'] = adata.obs.apply(get_multi_output, axis = 1, args = (str(i),))\n",
    "    print(f'Processed sample {i + 1}/6')"
   ]
  },
  {
   "cell_type": "code",
   "execution_count": null,
   "id": "6edc2fa5",
   "metadata": {},
   "outputs": [],
   "source": []
  },
  {
   "cell_type": "markdown",
   "id": "8a5d91d7",
   "metadata": {},
   "source": [
    "# Calculate qc metrics"
   ]
  },
  {
   "cell_type": "code",
   "execution_count": 38,
   "id": "11b8b5b8",
   "metadata": {},
   "outputs": [],
   "source": [
    "adata.var['mt'] = adata.var_names.str.startswith('MT-')  # annotate the group of mitochondrial genes as 'mt'\n",
    "sc.pp.calculate_qc_metrics(adata, qc_vars=['mt'], percent_top=None, log1p=False, inplace=True)"
   ]
  },
  {
   "cell_type": "code",
   "execution_count": 39,
   "id": "6e13ff09",
   "metadata": {},
   "outputs": [],
   "source": [
    "adata.write(\"fully_processed.h5ad\")"
   ]
  },
  {
   "cell_type": "code",
   "execution_count": null,
   "id": "77be0703",
   "metadata": {},
   "outputs": [],
   "source": []
  }
 ],
 "metadata": {
  "kernelspec": {
   "display_name": "Python 3 (ipykernel)",
   "language": "python",
   "name": "python3"
  },
  "language_info": {
   "codemirror_mode": {
    "name": "ipython",
    "version": 3
   },
   "file_extension": ".py",
   "mimetype": "text/x-python",
   "name": "python",
   "nbconvert_exporter": "python",
   "pygments_lexer": "ipython3",
   "version": "3.10.9"
  }
 },
 "nbformat": 4,
 "nbformat_minor": 5
}
